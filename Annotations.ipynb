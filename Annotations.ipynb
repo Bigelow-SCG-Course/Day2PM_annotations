{
 "cells": [
  {
   "cell_type": "markdown",
   "metadata": {},
   "source": [
    "# Data Environment Setup"
   ]
  },
  {
   "cell_type": "markdown",
   "metadata": {},
   "source": [
    "Make a directory for the results of your analyses."
   ]
  },
  {
   "cell_type": "markdown",
   "metadata": {},
   "source": [
    "```\n",
    "$ mkdir -p ~/storage/user_lab/{your_name_here}/annotations\n",
    "```"
   ]
  },
  {
   "cell_type": "markdown",
   "metadata": {},
   "source": [
    "Within this directory create two more directories; one for prokka and one for DRAM"
   ]
  },
  {
   "cell_type": "markdown",
   "metadata": {},
   "source": [
    "```\n",
    "$ mkdir -p ~/storage/user_lab/{your_name_here}/annotations/prokka\n",
    "\n",
    "$ mkdir -p ~/storage/user_lab/{your_name_here}/annotations/DRAM```"
   ]
  },
  {
   "cell_type": "markdown",
   "metadata": {},
   "source": [
    "# Software Environment Setup"
   ]
  },
  {
   "cell_type": "markdown",
   "metadata": {},
   "source": [
    "The softwares needed for this tutorial can be found in the conda env config files ./prokka_env.yml and ./dram_env.yml"
   ]
  },
  {
   "cell_type": "markdown",
   "metadata": {},
   "source": [
    "They are pre-installed on the jupyter hub. "
   ]
  },
  {
   "cell_type": "markdown",
   "metadata": {},
   "source": [
    "To activate prokka in the terminal type: "
   ]
  },
  {
   "cell_type": "markdown",
   "metadata": {},
   "source": [
    "```\n",
    "$ source activate prokka\n",
    "```"
   ]
  },
  {
   "cell_type": "markdown",
   "metadata": {},
   "source": [
    "# Run the analysis"
   ]
  },
  {
   "cell_type": "markdown",
   "metadata": {},
   "source": [
    "## Prokka"
   ]
  },
  {
   "cell_type": "markdown",
   "metadata": {},
   "source": [
    "We are going to analyse a small subset of SAGs with prokka. We are going to use the 19 genomes - belonging to the Alphaproteobactetial groups Pelagibacterales (SAR11) and HIMB59 - that you are going to use for the pangenomic analysis with Florian. The indentifiers for these are in: `~/storage/data/identifiers/AG-910_forpan.ids`."
   ]
  },
  {
   "cell_type": "markdown",
   "metadata": {},
   "source": [
    "We will write a small bash loop to run one SAG at the time"
   ]
  },
  {
   "cell_type": "markdown",
   "metadata": {},
   "source": [
    "```\n",
    "$ for i in $(cat ~/storage/data/identifiers/AG-910_forpan.ids); do prokka --outdir ~/storage/user_lab/{your_name_here}/annotations/prokka/${i} --prefix ${i} --locustag ${i} --cpus 4 ~/storage/data/contigs/AG-910/${i}_contigs.fasta; done\n",
    "```"
   ]
  },
  {
   "cell_type": "markdown",
   "metadata": {},
   "source": [
    "While we are waiting for the results we can check out the various file formats that prokka produces.\n"
   ]
  },
  {
   "cell_type": "code",
   "execution_count": null,
   "metadata": {},
   "outputs": [],
   "source": []
  },
  {
   "cell_type": "markdown",
   "metadata": {},
   "source": [
    "## DRAM"
   ]
  },
  {
   "cell_type": "markdown",
   "metadata": {},
   "source": [
    "Before we start this analysis, let's deactivate the previous conda environment and activate DRAM"
   ]
  },
  {
   "cell_type": "markdown",
   "metadata": {},
   "source": [
    "```\n",
    "$ conda deactivate\n",
    "$ source activate DRAM\n",
    "```"
   ]
  },
  {
   "cell_type": "markdown",
   "metadata": {},
   "source": [
    "DRAM takes a lot of time to run. So each of you will only run it in one SAGs. Pick your favorite or a random SAG identifier and type"
   ]
  },
  {
   "cell_type": "markdown",
   "metadata": {},
   "source": [
    "```\n",
    "$ DRAM.py annotate -i '~/storage/data/contigs/AG-910/{SAG_id}_contigs.fasta' -o ~/storage/user_lab/{your_name_here}/annotations/DRAM/{SAG_id}\n",
    "```"
   ]
  },
  {
   "cell_type": "code",
   "execution_count": null,
   "metadata": {},
   "outputs": [],
   "source": []
  }
 ],
 "metadata": {
  "kernelspec": {
   "display_name": "Python 3",
   "language": "python",
   "name": "python3"
  },
  "language_info": {
   "codemirror_mode": {
    "name": "ipython",
    "version": 3
   },
   "file_extension": ".py",
   "mimetype": "text/x-python",
   "name": "python",
   "nbconvert_exporter": "python",
   "pygments_lexer": "ipython3",
   "version": "3.7.3"
  }
 },
 "nbformat": 4,
 "nbformat_minor": 2
}
