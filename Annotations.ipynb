{
 "cells": [
  {
   "cell_type": "markdown",
   "metadata": {},
   "source": [
    "# Data Environment Setup"
   ]
  },
  {
   "cell_type": "markdown",
   "metadata": {},
   "source": [
    "Open the terminal and make a directory for the results of your analyses. In {your_name_here} put your user name"
   ]
  },
  {
   "cell_type": "markdown",
   "metadata": {},
   "source": [
    "```\n",
    "$ mkdir -p ~/storage/user_lab/{your_name_here}/annotations\n",
    "```\n",
    "\n",
    "\n",
    "in my case this would be:\n",
    "```\n",
    "$ mkdir -p ~/storage/user_lab/mpachiadaki/annotations\n",
    "```\n"
   ]
  },
  {
   "cell_type": "markdown",
   "metadata": {},
   "source": [
    "Within this directory create two more directories; one for prokka and one for DRAM"
   ]
  },
  {
   "cell_type": "markdown",
   "metadata": {},
   "source": [
    "```\n",
    "$ mkdir -p ~/storage/user_lab/{your_name_here}/annotations/prokka\n",
    "\n",
    "$ mkdir -p ~/storage/user_lab/{your_name_here}/annotations/DRAM```"
   ]
  },
  {
   "cell_type": "markdown",
   "metadata": {},
   "source": [
    "# Software Environment Setup"
   ]
  },
  {
   "cell_type": "markdown",
   "metadata": {},
   "source": [
    "The softwares needed for this tutorial can be found in the conda env config files ./prokka_env.yml and ./dram_env.yml"
   ]
  },
  {
   "cell_type": "markdown",
   "metadata": {},
   "source": [
    "They are pre-installed on the jupyter hub. "
   ]
  },
  {
   "cell_type": "markdown",
   "metadata": {},
   "source": [
    "To activate prokka in the terminal type: "
   ]
  },
  {
   "cell_type": "markdown",
   "metadata": {},
   "source": [
    "```\n",
    "$ source activate prokka\n",
    "```"
   ]
  },
  {
   "cell_type": "markdown",
   "metadata": {},
   "source": [
    "# Run the analysis"
   ]
  },
  {
   "cell_type": "markdown",
   "metadata": {},
   "source": [
    "## Prokka"
   ]
  },
  {
   "cell_type": "markdown",
   "metadata": {},
   "source": [
    "We are going to analyse a small subset of SAGs with prokka. We are going to use the 19 genomes - belonging to the Alphaproteobactetial groups Pelagibacterales (SAR11) and HIMB59 - that you are going to use for the pangenomic analysis with Florian. The indentifiers for these are in: `~/storage/data/identifiers/AG-910_forpan.ids`. To see what is there you can type:"
   ]
  },
  {
   "cell_type": "markdown",
   "metadata": {},
   "source": [
    "```\n",
    "less ~/storage/data/identifiers/AG-910_forpan.ids\n",
    "```"
   ]
  },
  {
   "cell_type": "markdown",
   "metadata": {},
   "source": [
    "Before we start we can check the full menu of prokka by typing:"
   ]
  },
  {
   "cell_type": "markdown",
   "metadata": {},
   "source": [
    "```\n",
    "prokka --help\n",
    "```"
   ]
  },
  {
   "cell_type": "markdown",
   "metadata": {},
   "source": [
    "We will write a small bash loop to run one SAG at the time. The `${i}` denotes the variable in the following command. In every iteration of the loop the program will use on of the identifiers provided by the file ~/storage/data/identifiers/AG-910_forpan.ids"
   ]
  },
  {
   "cell_type": "markdown",
   "metadata": {},
   "source": [
    "```\n",
    "$ for i in $(cat ~/storage/data/identifiers/AG-910_forpan.ids); do prokka --outdir ~/storage/user_lab/mpachiadaki/annotations/prokka/${i} --prefix ${i} --locustag ${i} --cpus 4 ~/storage/data/contigs/AG-910/${i}_contigs.fasta; done\n",
    "```"
   ]
  },
  {
   "cell_type": "markdown",
   "metadata": {},
   "source": [
    "While we are waiting for the results we can check out the various file formats that prokka produces.\n"
   ]
  },
  {
   "cell_type": "markdown",
   "metadata": {},
   "source": [
    "In class, we run the command for our favorite SAG only. Here is an example for mine which is AG-910-K02"
   ]
  },
  {
   "cell_type": "markdown",
   "metadata": {},
   "source": [
    "```\n",
    "$ prokka --outdir ~/storage/user_lab/mpachiadaki/annotations/prokka/AG-910-K02 --prefix AG-910-K02 --locustag AG-910-K02 --cpus 4 ~/storage/data/contigs/AG-910/AG-910-K02_contigs.fasta\n",
    "```"
   ]
  },
  {
   "cell_type": "markdown",
   "metadata": {},
   "source": [
    "## DRAM"
   ]
  },
  {
   "cell_type": "markdown",
   "metadata": {},
   "source": [
    "Before we start this analysis, let's deactivate the previous conda environment and activate DRAM"
   ]
  },
  {
   "cell_type": "markdown",
   "metadata": {},
   "source": [
    "```\n",
    "$ conda deactivate\n",
    "$ source activate DRAM\n",
    "```"
   ]
  },
  {
   "cell_type": "markdown",
   "metadata": {},
   "source": [
    "DRAM takes a lot of time to run. So each of you will only run it in one SAGs. Pick your favorite or a random SAG identifier (in my case AG-910-K02) and type the following command. We will modify the --threads parameter to 1 (in order for all our jobs to run in parallel; you can increase this if you are working in your own cluster). We have also modified the --min_contig_size to 2000 in order for the software to annotate all our contigs (the default is 2500)."
   ]
  },
  {
   "cell_type": "markdown",
   "metadata": {},
   "source": [
    "```\n",
    "$ DRAM.py annotate -i ~/storage/data/contigs/AG-910/AG-910-K02_contigs.fasta --min_contig_size 2000 --threads 1 -o ~/storage/user_lab/mpachiadaki/annotations/DRAM/AG-910-K02\n",
    "```"
   ]
  },
  {
   "cell_type": "markdown",
   "metadata": {},
   "source": [
    "After the annotation is done we can run the destillation (it produces summaries of our results)."
   ]
  },
  {
   "cell_type": "markdown",
   "metadata": {},
   "source": [
    "```\n",
    "$ DRAM.py distill -i ~/storage/user_lab/mpachiadaki/annotations/DRAM/AG-910-K02/annotations.tsv -o  ~/storage/user_lab/mpachiadaki/annotations/DRAM/AG-910-K02/summary --rrna_path  ~/storage/user_lab/mpachiadaki/annotations/DRAM/AG-910-K02/AG-910-K02/rrnas.tsv --trna_path  ~/storage/user_lab/mpachiadaki/annotations/DRAM/AG-910-K02/AG-910-K02/trnas.tsv\n",
    "```"
   ]
  },
  {
   "cell_type": "markdown",
   "metadata": {},
   "source": [
    "If your SAG didn't have any rrnas.tsv you should omit this flag (--rrna_path  ~/storage/user_lab/mpachiadaki/annotations/DRAM/AG-910-K02/AG-910-K02/rrnas.tsv). It is always good practice to check your output files by typing `ls -lh ~/storage/user_lab/mpachiadaki/annotations/DRAM/AG-910-K02` before proceeding. Also remember to help the menu before writing your command. For DRAM you can write:"
   ]
  },
  {
   "cell_type": "markdown",
   "metadata": {},
   "source": [
    "```\n",
    "DRAM.py annotate --help\n",
    "DRAM.py distill --help\n",
    "```"
   ]
  },
  {
   "cell_type": "code",
   "execution_count": null,
   "metadata": {
    "collapsed": true
   },
   "outputs": [],
   "source": []
  }
 ],
 "metadata": {
  "kernelspec": {
   "display_name": "Python 3",
   "language": "python",
   "name": "python3"
  },
  "language_info": {
   "codemirror_mode": {
    "name": "ipython",
    "version": 3
   },
   "file_extension": ".py",
   "mimetype": "text/x-python",
   "name": "python",
   "nbconvert_exporter": "python",
   "pygments_lexer": "ipython3",
   "version": "3.7.3"
  }
 },
 "nbformat": 4,
 "nbformat_minor": 2
}
